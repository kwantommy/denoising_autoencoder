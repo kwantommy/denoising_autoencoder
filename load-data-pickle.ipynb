{
 "cells": [
  {
   "cell_type": "code",
   "execution_count": 1,
   "metadata": {},
   "outputs": [],
   "source": [
    "import os\n",
    "import cv2\n",
    "\n",
    "IMG_SIZE = 32\n",
    "\n",
    "x_train = []\n",
    "x_train_salt_pepper = []\n",
    "x_test = [] \n",
    "x_test_salt_pepper = [] \n",
    "\n",
    "def create_training_data():\n",
    "    \n",
    "    # Load in dog train\n",
    "    path = '/Users/tommykwan/Documents/MachineLearning/DeepLearning/generative/denoising_autoencoder_salt_pepper_augmented/dog_train'\n",
    "    files = os.listdir(path)\n",
    "    for file in files:\n",
    "        try:\n",
    "            img_array = cv2.imread(os.path.join(path,file),cv2.IMREAD_GRAYSCALE) #full path to image\n",
    "            new_array = cv2.resize(img_array, (IMG_SIZE, IMG_SIZE))\n",
    "            x_train.append([new_array])           \n",
    "        except Exception as e:\n",
    "            pass\n",
    "\n",
    "    # Load in dog train salt pepper\n",
    "    path = '/Users/tommykwan/Documents/MachineLearning/DeepLearning/generative/denoising_autoencoder_salt_pepper_augmented/dog_train_salt_pepper'\n",
    "    files = os.listdir(path)\n",
    "    for file in files:\n",
    "        try:\n",
    "            img_array = cv2.imread(os.path.join(path,file),cv2.IMREAD_GRAYSCALE) #full path to image\n",
    "            new_array = cv2.resize(img_array, (IMG_SIZE, IMG_SIZE))\n",
    "            x_train_salt_pepper.append([new_array])           \n",
    "        except Exception as e:\n",
    "            pass\n",
    "    \n",
    "    # Load in dog test \n",
    "    path = '/Users/tommykwan/Documents/MachineLearning/DeepLearning/generative/denoising_autoencoder_salt_pepper_augmented/dog_test'\n",
    "    files = os.listdir(path)\n",
    "    for file in files:\n",
    "        try:\n",
    "            img_array = cv2.imread(os.path.join(path,file),cv2.IMREAD_GRAYSCALE) #full path to image\n",
    "            new_array = cv2.resize(img_array, (IMG_SIZE, IMG_SIZE))\n",
    "            x_test.append([new_array])           \n",
    "        except Exception as e:\n",
    "            pass\n",
    "\n",
    "    # Load in dog test salt pepper\n",
    "    path = '/Users/tommykwan/Documents/MachineLearning/DeepLearning/generative/denoising_autoencoder_salt_pepper_augmented/dog_test_salt_pepper'\n",
    "    files = os.listdir(path)\n",
    "    for file in files:\n",
    "        try:\n",
    "            img_array = cv2.imread(os.path.join(path,file),cv2.IMREAD_GRAYSCALE) #full path to image\n",
    "            new_array = cv2.resize(img_array, (IMG_SIZE, IMG_SIZE))\n",
    "            x_test_salt_pepper.append([new_array])\n",
    "        except Exception as e:\n",
    "            pass\n",
    "        \n",
    "create_training_data()\n"
   ]
  },
  {
   "cell_type": "code",
   "execution_count": 2,
   "metadata": {},
   "outputs": [],
   "source": [
    "import pickle \n",
    "\n",
    "pickle_out = open(\"x_train.pickle\",\"wb\")\n",
    "pickle.dump(x_train,pickle_out)\n",
    "pickle_out.close()\n",
    "\n",
    "pickle_out = open(\"x_test.pickle\",\"wb\")\n",
    "pickle.dump(x_test,pickle_out)\n",
    "pickle_out.close()\n",
    "\n",
    "pickle_out = open(\"x_train_salt_pepper.pickle\",\"wb\")\n",
    "pickle.dump(x_train_salt_pepper,pickle_out)\n",
    "pickle_out.close()\n",
    "\n",
    "pickle_out = open(\"x_test_salt_pepper.pickle\",\"wb\")\n",
    "pickle.dump(x_test_salt_pepper,pickle_out)\n",
    "pickle_out.close()\n"
   ]
  },
  {
   "cell_type": "code",
   "execution_count": 3,
   "metadata": {},
   "outputs": [],
   "source": [
    "x_train_pickle = pickle.load(open(\"x_train.pickle\",\"rb\"))\n",
    "x_test_pickle = pickle.load(open(\"x_test.pickle\", \"rb\"))"
   ]
  },
  {
   "cell_type": "code",
   "execution_count": 4,
   "metadata": {},
   "outputs": [],
   "source": [
    "import numpy as np\n",
    "x_test = np.array(x_test_pickle).reshape(-1, IMG_SIZE, IMG_SIZE, 1)\n",
    "x_train = np.array(x_train_pickle).reshape(-1, IMG_SIZE, IMG_SIZE, 1)\n",
    "\n",
    "x_train = x_train.astype('float32') / 255\n",
    "x_test = x_test.astype('float32') / 255\n",
    "\n",
    "x_train = np.clip(x_train, 0., 1.)\n",
    "x_test = np.clip(x_test, 0., 1.)\n",
    "\n",
    "\n"
   ]
  },
  {
   "cell_type": "code",
   "execution_count": 5,
   "metadata": {},
   "outputs": [
    {
     "name": "stdout",
     "output_type": "stream",
     "text": [
      "(10997, 32, 32, 1)\n",
      "(1499, 32, 32, 1)\n"
     ]
    }
   ],
   "source": [
    "print(x_train.shape)\n",
    "\n",
    "print(x_test.shape)\n"
   ]
  },
  {
   "cell_type": "code",
   "execution_count": null,
   "metadata": {},
   "outputs": [],
   "source": []
  }
 ],
 "metadata": {
  "kernelspec": {
   "display_name": "Python 3",
   "language": "python",
   "name": "python3"
  },
  "language_info": {
   "codemirror_mode": {
    "name": "ipython",
    "version": 3
   },
   "file_extension": ".py",
   "mimetype": "text/x-python",
   "name": "python",
   "nbconvert_exporter": "python",
   "pygments_lexer": "ipython3",
   "version": "3.6.8"
  }
 },
 "nbformat": 4,
 "nbformat_minor": 2
}
