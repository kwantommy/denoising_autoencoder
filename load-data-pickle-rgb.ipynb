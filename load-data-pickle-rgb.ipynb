{
 "cells": [
  {
   "cell_type": "code",
   "execution_count": 1,
   "metadata": {},
   "outputs": [],
   "source": [
    "import os\n",
    "import cv2\n",
    "\n",
    "IMG_SIZE = 96\n",
    "\n",
    "x_train = []\n",
    "x_test = [] \n",
    "x_valid = []\n",
    "\n",
    "def create_training_data():\n",
    "    \n",
    "    # Load in dog train\n",
    "    path = './dog_data/train'\n",
    "    files = os.listdir(path)\n",
    "    for file in files:\n",
    "        try:\n",
    "            img_array = cv2.imread(os.path.join(path,file)) #full path to image\n",
    "            new_array = cv2.resize(img_array, (IMG_SIZE, IMG_SIZE))\n",
    "            x_train.append([new_array])           \n",
    "        except Exception as e:\n",
    "            pass\n",
    "\n",
    "    # Load in dog valid\n",
    "    path = './dog_data/valid'\n",
    "    files = os.listdir(path)\n",
    "    for file in files:\n",
    "        try:\n",
    "            img_array = cv2.imread(os.path.join(path,file)) #full path to image\n",
    "            new_array = cv2.resize(img_array, (IMG_SIZE, IMG_SIZE))\n",
    "            x_valid.append([new_array])           \n",
    "        except Exception as e:\n",
    "            pass\n",
    "        \n",
    "        \n",
    "    # Load in dog test \n",
    "    path = './dog_data/test'\n",
    "    files = os.listdir(path)\n",
    "    for file in files:\n",
    "        try:\n",
    "            img_array = cv2.imread(os.path.join(path,file)) #full path to image\n",
    "            new_array = cv2.resize(img_array, (IMG_SIZE, IMG_SIZE))\n",
    "            x_test.append([new_array])           \n",
    "        except Exception as e:\n",
    "            pass\n",
    "\n",
    "\n",
    "create_training_data()\n"
   ]
  },
  {
   "cell_type": "code",
   "execution_count": 2,
   "metadata": {},
   "outputs": [],
   "source": [
    "import pickle \n",
    "\n",
    "pickle_out = open(\"x_train_rgb.pickle\",\"wb\")\n",
    "pickle.dump(x_train,pickle_out)\n",
    "pickle_out.close()\n",
    "\n",
    "pickle_out = open(\"x_valid_rgb.pickle\",\"wb\")\n",
    "pickle.dump(x_valid,pickle_out)\n",
    "pickle_out.close()\n",
    "\n",
    "pickle_out = open(\"x_test_rgb.pickle\",\"wb\")\n",
    "pickle.dump(x_test,pickle_out)\n",
    "pickle_out.close()\n"
   ]
  },
  {
   "cell_type": "code",
   "execution_count": 3,
   "metadata": {},
   "outputs": [],
   "source": [
    "x_train_pickle = pickle.load(open(\"x_train_rgb.pickle\",\"rb\"))\n",
    "x_valid_pickle = pickle.load(open(\"x_valid_rgb.pickle\",\"rb\"))\n",
    "x_test_pickle = pickle.load(open(\"x_test_rgb.pickle\", \"rb\"))"
   ]
  },
  {
   "cell_type": "code",
   "execution_count": 4,
   "metadata": {},
   "outputs": [],
   "source": [
    "import numpy as np\n",
    "x_test = np.array(x_test_pickle).reshape(-1, IMG_SIZE, IMG_SIZE, 3)\n",
    "x_valid = np.array(x_valid_pickle).reshape(-1, IMG_SIZE, IMG_SIZE, 3)\n",
    "x_train = np.array(x_train_pickle).reshape(-1, IMG_SIZE, IMG_SIZE, 3)\n",
    "\n",
    "x_train = x_train / 255.0\n",
    "x_valid = x_valid / 255.0\n",
    "x_test = x_test / 255.0"
   ]
  },
  {
   "cell_type": "code",
   "execution_count": 5,
   "metadata": {},
   "outputs": [
    {
     "name": "stdout",
     "output_type": "stream",
     "text": [
      "(8409, 96, 96, 3)\n",
      "(2498, 96, 96, 3)\n",
      "(68, 96, 96, 3)\n"
     ]
    }
   ],
   "source": [
    "print(x_train.shape)\n",
    "print(x_valid.shape)\n",
    "print(x_test.shape)\n"
   ]
  },
  {
   "cell_type": "code",
   "execution_count": 6,
   "metadata": {},
   "outputs": [
    {
     "data": {
      "text/plain": [
       "<matplotlib.image.AxesImage at 0x1193138d0>"
      ]
     },
     "execution_count": 6,
     "metadata": {},
     "output_type": "execute_result"
    }
   ],
   "source": [
    "import matplotlib.pyplot as plt\n",
    "\n",
    "plt.imshow(x_test[1,:,:,:])"
   ]
  },
  {
   "cell_type": "code",
   "execution_count": null,
   "metadata": {},
   "outputs": [],
   "source": []
  }
 ],
 "metadata": {
  "kernelspec": {
   "display_name": "Python 3",
   "language": "python",
   "name": "python3"
  },
  "language_info": {
   "codemirror_mode": {
    "name": "ipython",
    "version": 3
   },
   "file_extension": ".py",
   "mimetype": "text/x-python",
   "name": "python",
   "nbconvert_exporter": "python",
   "pygments_lexer": "ipython3",
   "version": "3.6.8"
  }
 },
 "nbformat": 4,
 "nbformat_minor": 2
}
